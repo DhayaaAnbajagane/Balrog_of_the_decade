{
 "cells": [
  {
   "cell_type": "code",
   "execution_count": 5,
   "id": "8fbad5ba",
   "metadata": {},
   "outputs": [],
   "source": [
    "import numpy as np\n",
    "import glob\n",
    "import scipy\n",
    "import os\n",
    "import pandas as pd"
   ]
  },
  {
   "cell_type": "code",
   "execution_count": 2,
   "id": "9b2c4455",
   "metadata": {},
   "outputs": [],
   "source": [
    "REPROCESS = pd.read_csv('/home/dhayaa/Desktop/DECADE/DR3_1_TileRedo_Reproc_Astrofix.csv')['TILENAME'].values"
   ]
  },
  {
   "cell_type": "code",
   "execution_count": 3,
   "id": "82cbf32f",
   "metadata": {},
   "outputs": [
    {
     "data": {
      "text/plain": [
       "array(['DES0655+3000', 'DES0656+2917', 'DES0658+3000', ...,\n",
       "       'DES1748-0624', 'DES1749-0541', 'DES1751-0541'], dtype=object)"
      ]
     },
     "execution_count": 3,
     "metadata": {},
     "output_type": "execute_result"
    }
   ],
   "source": [
    "REPROCESS"
   ]
  },
  {
   "cell_type": "code",
   "execution_count": 15,
   "id": "3162a865",
   "metadata": {},
   "outputs": [],
   "source": [
    "Brog_list = glob.glob('/project/chihway/dhayaa/DECADE/Balrog/v08_ProductionRun3/balrog_*.fits')\n",
    "Tile_list = np.array([t[-17:-5] for t in Brog_list])\n",
    "time_list = np.array([os.path.getctime(t) for t in Brog_list])\n",
    "\n",
    "Tile_list = Tile_list[time_list < 1.7e9]\n",
    "time_list = time_list[time_list < 1.7e9]"
   ]
  },
  {
   "cell_type": "code",
   "execution_count": 16,
   "id": "29944b6e",
   "metadata": {},
   "outputs": [
    {
     "data": {
      "text/plain": [
       "(array([38., 37., 60., 54., 54., 56., 42., 48., 16., 50.]),\n",
       " array([1.69527696e+09, 1.69537027e+09, 1.69546357e+09, 1.69555688e+09,\n",
       "        1.69565018e+09, 1.69574349e+09, 1.69583679e+09, 1.69593009e+09,\n",
       "        1.69602340e+09, 1.69611670e+09, 1.69621001e+09]),\n",
       " <BarContainer object of 10 artists>)"
      ]
     },
     "execution_count": 16,
     "metadata": {},
     "output_type": "execute_result"
    },
    {
     "data": {
      "image/png": "[encoded data removed]",
      "text/plain": [
       "<Figure size 640x480 with 1 Axes>"
      ]
     },
     "metadata": {},
     "output_type": "display_data"
    }
   ],
   "source": [
    "import matplotlib.pyplot as plt\n",
    "\n",
    "plt.hist(time_list)"
   ]
  },
  {
   "cell_type": "code",
   "execution_count": 23,
   "id": "75f5f422",
   "metadata": {},
   "outputs": [],
   "source": [
    "# from astropy.io import fits\n",
    "\n",
    "# fits.open('/project/chihway/dhayaa/DECADE/Imsim_Inputs/input_cosmos_v4.fits')[1].data.dtype.names"
   ]
  },
  {
   "cell_type": "code",
   "execution_count": 17,
   "id": "d9778f48",
   "metadata": {},
   "outputs": [],
   "source": [
    "np.savetxt('./Reproc_Astrofix_TilesToRedo_V2.txt', Tile_list[np.isin(Tile_list, REPROCESS)], fmt = '%s')"
   ]
  },
  {
   "cell_type": "code",
   "execution_count": 18,
   "id": "7772d1b2",
   "metadata": {},
   "outputs": [
    {
     "data": {
      "text/html": [
       "<div>\n",
       "<style scoped>\n",
       "    .dataframe tbody tr th:only-of-type {\n",
       "        vertical-align: middle;\n",
       "    }\n",
       "\n",
       "    .dataframe tbody tr th {\n",
       "        vertical-align: top;\n",
       "    }\n",
       "\n",
       "    .dataframe thead th {\n",
       "        text-align: right;\n",
       "    }\n",
       "</style>\n",
       "<table border=\"1\" class=\"dataframe\">\n",
       "  <thead>\n",
       "    <tr style=\"text-align: right;\">\n",
       "      <th></th>\n",
       "      <th>0</th>\n",
       "    </tr>\n",
       "  </thead>\n",
       "  <tbody>\n",
       "    <tr>\n",
       "      <th>0</th>\n",
       "      <td>DES0934-0915</td>\n",
       "    </tr>\n",
       "    <tr>\n",
       "      <th>1</th>\n",
       "      <td>DES1116-0124</td>\n",
       "    </tr>\n",
       "    <tr>\n",
       "      <th>2</th>\n",
       "      <td>DES1125+1417</td>\n",
       "    </tr>\n",
       "    <tr>\n",
       "      <th>3</th>\n",
       "      <td>DES1634+1209</td>\n",
       "    </tr>\n",
       "    <tr>\n",
       "      <th>4</th>\n",
       "      <td>DES1735-0707</td>\n",
       "    </tr>\n",
       "    <tr>\n",
       "      <th>...</th>\n",
       "      <td>...</td>\n",
       "    </tr>\n",
       "    <tr>\n",
       "      <th>277</th>\n",
       "      <td>DES1325+1043</td>\n",
       "    </tr>\n",
       "    <tr>\n",
       "      <th>278</th>\n",
       "      <td>DES1339+2126</td>\n",
       "    </tr>\n",
       "    <tr>\n",
       "      <th>279</th>\n",
       "      <td>DES1352+0626</td>\n",
       "    </tr>\n",
       "    <tr>\n",
       "      <th>280</th>\n",
       "      <td>DES1054+1626</td>\n",
       "    </tr>\n",
       "    <tr>\n",
       "      <th>281</th>\n",
       "      <td>DES1224+1043</td>\n",
       "    </tr>\n",
       "  </tbody>\n",
       "</table>\n",
       "<p>282 rows × 1 columns</p>\n",
       "</div>"
      ],
      "text/plain": [
       "                0\n",
       "0    DES0934-0915\n",
       "1    DES1116-0124\n",
       "2    DES1125+1417\n",
       "3    DES1634+1209\n",
       "4    DES1735-0707\n",
       "..            ...\n",
       "277  DES1325+1043\n",
       "278  DES1339+2126\n",
       "279  DES1352+0626\n",
       "280  DES1054+1626\n",
       "281  DES1224+1043\n",
       "\n",
       "[282 rows x 1 columns]"
      ]
     },
     "execution_count": 18,
     "metadata": {},
     "output_type": "execute_result"
    }
   ],
   "source": [
    "pd.read_csv('./Reproc_Astrofix_TilesToRedo.txt', header = None)"
   ]
  },
  {
   "cell_type": "code",
   "execution_count": 19,
   "id": "36156b87",
   "metadata": {},
   "outputs": [
    {
     "data": {
      "text/html": [
       "<div>\n",
       "<style scoped>\n",
       "    .dataframe tbody tr th:only-of-type {\n",
       "        vertical-align: middle;\n",
       "    }\n",
       "\n",
       "    .dataframe tbody tr th {\n",
       "        vertical-align: top;\n",
       "    }\n",
       "\n",
       "    .dataframe thead th {\n",
       "        text-align: right;\n",
       "    }\n",
       "</style>\n",
       "<table border=\"1\" class=\"dataframe\">\n",
       "  <thead>\n",
       "    <tr style=\"text-align: right;\">\n",
       "      <th></th>\n",
       "      <th>0</th>\n",
       "    </tr>\n",
       "  </thead>\n",
       "  <tbody>\n",
       "    <tr>\n",
       "      <th>0</th>\n",
       "      <td>DES0934-0915</td>\n",
       "    </tr>\n",
       "    <tr>\n",
       "      <th>1</th>\n",
       "      <td>DES1609-1958</td>\n",
       "    </tr>\n",
       "    <tr>\n",
       "      <th>2</th>\n",
       "      <td>DES1100-0250</td>\n",
       "    </tr>\n",
       "    <tr>\n",
       "      <th>3</th>\n",
       "      <td>DES1218+1000</td>\n",
       "    </tr>\n",
       "    <tr>\n",
       "      <th>4</th>\n",
       "      <td>DES1339+1834</td>\n",
       "    </tr>\n",
       "    <tr>\n",
       "      <th>...</th>\n",
       "      <td>...</td>\n",
       "    </tr>\n",
       "    <tr>\n",
       "      <th>70</th>\n",
       "      <td>DES1418-0624</td>\n",
       "    </tr>\n",
       "    <tr>\n",
       "      <th>71</th>\n",
       "      <td>DES1610-0041</td>\n",
       "    </tr>\n",
       "    <tr>\n",
       "      <th>72</th>\n",
       "      <td>DES1342-1124</td>\n",
       "    </tr>\n",
       "    <tr>\n",
       "      <th>73</th>\n",
       "      <td>DES1242+2417</td>\n",
       "    </tr>\n",
       "    <tr>\n",
       "      <th>74</th>\n",
       "      <td>DES1325+1043</td>\n",
       "    </tr>\n",
       "  </tbody>\n",
       "</table>\n",
       "<p>75 rows × 1 columns</p>\n",
       "</div>"
      ],
      "text/plain": [
       "               0\n",
       "0   DES0934-0915\n",
       "1   DES1609-1958\n",
       "2   DES1100-0250\n",
       "3   DES1218+1000\n",
       "4   DES1339+1834\n",
       "..           ...\n",
       "70  DES1418-0624\n",
       "71  DES1610-0041\n",
       "72  DES1342-1124\n",
       "73  DES1242+2417\n",
       "74  DES1325+1043\n",
       "\n",
       "[75 rows x 1 columns]"
      ]
     },
     "execution_count": 19,
     "metadata": {},
     "output_type": "execute_result"
    }
   ],
   "source": [
    "pd.read_csv('./Reproc_Astrofix_TilesToRedo_V2.txt', header = None)"
   ]
  }
 ],
 "metadata": {
  "kernelspec": {
   "display_name": "shearDM",
   "language": "python",
   "name": "sheardm"
  },
  "language_info": {
   "codemirror_mode": {
    "name": "ipython",
    "version": 3
   },
   "file_extension": ".py",
   "mimetype": "text/x-python",
   "name": "python",
   "nbconvert_exporter": "python",
   "pygments_lexer": "ipython3",
   "version": "3.10.9"
  }
 },
 "nbformat": 4,
 "nbformat_minor": 5
}
